{
  "nbformat": 4,
  "nbformat_minor": 0,
  "metadata": {
    "colab": {
      "name": "unionfind.ipynb",
      "provenance": [],
      "authorship_tag": "ABX9TyNMGkwWnRVmmveLUy1m6qaN",
      "include_colab_link": true
    },
    "kernelspec": {
      "name": "python3",
      "display_name": "Python 3"
    },
    "language_info": {
      "name": "python"
    }
  },
  "cells": [
    {
      "cell_type": "markdown",
      "metadata": {
        "id": "view-in-github",
        "colab_type": "text"
      },
      "source": [
        "<a href=\"https://colab.research.google.com/github/maitreyi-kv/ds-algo/blob/main/graphs/unionfind.ipynb\" target=\"_parent\"><img src=\"https://colab.research.google.com/assets/colab-badge.svg\" alt=\"Open In Colab\"/></a>"
      ]
    },
    {
      "cell_type": "markdown",
      "source": [
        "Graphs Leetcode: https://leetcode.com/explore/learn/card/graph/618/disjoint-set/3878/"
      ],
      "metadata": {
        "id": "lq1EMIilewdV"
      }
    },
    {
      "cell_type": "code",
      "execution_count": 9,
      "metadata": {
        "id": "803I9DjAYEY8"
      },
      "outputs": [],
      "source": [
        "class UnionFind:\n",
        "  def __init__(self, size):\n",
        "    self.root = [i for i in range(size)]\n",
        "  \n",
        "  def union(self, x, y):\n",
        "    headx = self.find(x)\n",
        "    heady = self.find(y)\n",
        "\n",
        "    if headx != heady:\n",
        "\n",
        "      for idx, val in enumerate(self.root):\n",
        "        if val == heady:\n",
        "          self.root[idx] = headx\n",
        "\n",
        "  def find(self, x):\n",
        "    return self.root[x]\n",
        "  \n",
        "  def connected(self, x, y):\n",
        "    return self.root[x] == self.root[y]\n"
      ]
    },
    {
      "cell_type": "code",
      "source": [
        "# Test Case\n",
        "uf = UnionFind(10)\n",
        "# 1-2-5-6-7 3-8-9 4\n",
        "uf.union(1, 2)\n",
        "uf.union(2, 5)\n",
        "uf.union(5, 6)\n",
        "uf.union(6, 7)\n",
        "uf.union(3, 8)\n",
        "uf.union(8, 9)\n",
        "print(uf.connected(1, 5))  # true\n",
        "print(uf.connected(5, 7))  # true\n",
        "print(uf.connected(4, 9))  # false\n",
        "# 1-2-5-6-7 3-8-9-4\n",
        "uf.union(9, 4)\n",
        "print(uf.connected(4, 9))  # true"
      ],
      "metadata": {
        "colab": {
          "base_uri": "https://localhost:8080/"
        },
        "id": "uZ3AOJpDeOhC",
        "outputId": "eee99b92-0283-4f6d-c815-c9e117bc1b5f"
      },
      "execution_count": 10,
      "outputs": [
        {
          "output_type": "stream",
          "name": "stdout",
          "text": [
            "True\n",
            "True\n",
            "False\n",
            "True\n"
          ]
        }
      ]
    },
    {
      "cell_type": "code",
      "source": [
        ""
      ],
      "metadata": {
        "id": "zqrN7TFHeRc0"
      },
      "execution_count": null,
      "outputs": []
    }
  ]
}